{
 "cells": [
  {
   "cell_type": "code",
   "execution_count": 1,
   "id": "ef4183d3",
   "metadata": {},
   "outputs": [
    {
     "name": "stderr",
     "output_type": "stream",
     "text": [
      "/depot/bera89/apps/IDEAS_hviswan/lib/python3.8/site-packages/tqdm/auto.py:22: TqdmWarning: IProgress not found. Please update jupyter and ipywidgets. See https://ipywidgets.readthedocs.io/en/stable/user_install.html\n",
      "  from .autonotebook import tqdm as notebook_tqdm\n"
     ]
    }
   ],
   "source": [
    "import sys\n",
    "sys.path.append('/home/hviswan/Hrishikesh-IDEAS/hviswan/Fall22 IDEAS')\n",
    "from generateTrainingMatrix import *"
   ]
  },
  {
   "cell_type": "code",
   "execution_count": 2,
   "id": "0c96e61e",
   "metadata": {},
   "outputs": [
    {
     "name": "stdout",
     "output_type": "stream",
     "text": [
      "/scratch/gilbreth/hviswan/vimeo_triplet/sequences/00001\n",
      "/scratch/gilbreth/hviswan/vimeo_triplet/sequences/00002\n",
      "/scratch/gilbreth/hviswan/vimeo_triplet/sequences/00003\n",
      "/scratch/gilbreth/hviswan/vimeo_triplet/sequences/00004\n",
      "/scratch/gilbreth/hviswan/vimeo_triplet/sequences/00005\n",
      "/scratch/gilbreth/hviswan/vimeo_triplet/sequences/00006\n",
      "/scratch/gilbreth/hviswan/vimeo_triplet/sequences/00007\n",
      "/scratch/gilbreth/hviswan/vimeo_triplet/sequences/00008\n",
      "/scratch/gilbreth/hviswan/vimeo_triplet/sequences/00009\n",
      "/scratch/gilbreth/hviswan/vimeo_triplet/sequences/00010\n",
      "/scratch/gilbreth/hviswan/vimeo_triplet/sequences/00011\n",
      "/scratch/gilbreth/hviswan/vimeo_triplet/sequences/00012\n",
      "/scratch/gilbreth/hviswan/vimeo_triplet/sequences/00013\n",
      "/scratch/gilbreth/hviswan/vimeo_triplet/sequences/00014\n",
      "/scratch/gilbreth/hviswan/vimeo_triplet/sequences/00015\n",
      "/scratch/gilbreth/hviswan/vimeo_triplet/sequences/00016\n",
      "/scratch/gilbreth/hviswan/vimeo_triplet/sequences/00017\n",
      "/scratch/gilbreth/hviswan/vimeo_triplet/sequences/00018\n",
      "/scratch/gilbreth/hviswan/vimeo_triplet/sequences/00019\n",
      "/scratch/gilbreth/hviswan/vimeo_triplet/sequences/00020\n",
      "/scratch/gilbreth/hviswan/vimeo_triplet/sequences/00021\n",
      "/scratch/gilbreth/hviswan/vimeo_triplet/sequences/00022\n",
      "/scratch/gilbreth/hviswan/vimeo_triplet/sequences/00023\n",
      "/scratch/gilbreth/hviswan/vimeo_triplet/sequences/00024\n",
      "/scratch/gilbreth/hviswan/vimeo_triplet/sequences/00025\n",
      "/scratch/gilbreth/hviswan/vimeo_triplet/sequences/00026\n",
      "/scratch/gilbreth/hviswan/vimeo_triplet/sequences/00027\n",
      "/scratch/gilbreth/hviswan/vimeo_triplet/sequences/00028\n",
      "/scratch/gilbreth/hviswan/vimeo_triplet/sequences/00029\n",
      "/scratch/gilbreth/hviswan/vimeo_triplet/sequences/00030\n",
      "/scratch/gilbreth/hviswan/vimeo_triplet/sequences/00031\n",
      "/scratch/gilbreth/hviswan/vimeo_triplet/sequences/00032\n",
      "/scratch/gilbreth/hviswan/vimeo_triplet/sequences/00033\n",
      "/scratch/gilbreth/hviswan/vimeo_triplet/sequences/00034\n",
      "/scratch/gilbreth/hviswan/vimeo_triplet/sequences/00035\n",
      "/scratch/gilbreth/hviswan/vimeo_triplet/sequences/00036\n",
      "/scratch/gilbreth/hviswan/vimeo_triplet/sequences/00037\n",
      "/scratch/gilbreth/hviswan/vimeo_triplet/sequences/00038\n",
      "/scratch/gilbreth/hviswan/vimeo_triplet/sequences/00039\n",
      "/scratch/gilbreth/hviswan/vimeo_triplet/sequences/00040\n",
      "/scratch/gilbreth/hviswan/vimeo_triplet/sequences/00041\n",
      "/scratch/gilbreth/hviswan/vimeo_triplet/sequences/00042\n",
      "/scratch/gilbreth/hviswan/vimeo_triplet/sequences/00043\n",
      "/scratch/gilbreth/hviswan/vimeo_triplet/sequences/00044\n",
      "/scratch/gilbreth/hviswan/vimeo_triplet/sequences/00045\n",
      "/scratch/gilbreth/hviswan/vimeo_triplet/sequences/00046\n",
      "/scratch/gilbreth/hviswan/vimeo_triplet/sequences/00047\n",
      "/scratch/gilbreth/hviswan/vimeo_triplet/sequences/00048\n",
      "/scratch/gilbreth/hviswan/vimeo_triplet/sequences/00049\n",
      "/scratch/gilbreth/hviswan/vimeo_triplet/sequences/00050\n",
      "/scratch/gilbreth/hviswan/vimeo_triplet/sequences/00051\n",
      "/scratch/gilbreth/hviswan/vimeo_triplet/sequences/00052\n",
      "/scratch/gilbreth/hviswan/vimeo_triplet/sequences/00053\n",
      "/scratch/gilbreth/hviswan/vimeo_triplet/sequences/00054\n",
      "/scratch/gilbreth/hviswan/vimeo_triplet/sequences/00055\n",
      "/scratch/gilbreth/hviswan/vimeo_triplet/sequences/00056\n",
      "/scratch/gilbreth/hviswan/vimeo_triplet/sequences/00057\n",
      "/scratch/gilbreth/hviswan/vimeo_triplet/sequences/00058\n",
      "/scratch/gilbreth/hviswan/vimeo_triplet/sequences/00059\n",
      "/scratch/gilbreth/hviswan/vimeo_triplet/sequences/00060\n",
      "/scratch/gilbreth/hviswan/vimeo_triplet/sequences/00061\n",
      "/scratch/gilbreth/hviswan/vimeo_triplet/sequences/00062\n",
      "/scratch/gilbreth/hviswan/vimeo_triplet/sequences/00063\n",
      "/scratch/gilbreth/hviswan/vimeo_triplet/sequences/00064\n",
      "/scratch/gilbreth/hviswan/vimeo_triplet/sequences/00065\n",
      "/scratch/gilbreth/hviswan/vimeo_triplet/sequences/00066\n",
      "/scratch/gilbreth/hviswan/vimeo_triplet/sequences/00067\n",
      "/scratch/gilbreth/hviswan/vimeo_triplet/sequences/00068\n",
      "/scratch/gilbreth/hviswan/vimeo_triplet/sequences/00069\n",
      "/scratch/gilbreth/hviswan/vimeo_triplet/sequences/00070\n",
      "/scratch/gilbreth/hviswan/vimeo_triplet/sequences/00071\n",
      "/scratch/gilbreth/hviswan/vimeo_triplet/sequences/00072\n",
      "/scratch/gilbreth/hviswan/vimeo_triplet/sequences/00073\n",
      "/scratch/gilbreth/hviswan/vimeo_triplet/sequences/00074\n",
      "/scratch/gilbreth/hviswan/vimeo_triplet/sequences/00075\n",
      "/scratch/gilbreth/hviswan/vimeo_triplet/sequences/00076\n",
      "/scratch/gilbreth/hviswan/vimeo_triplet/sequences/00077\n",
      "/scratch/gilbreth/hviswan/vimeo_triplet/sequences/00078\n",
      "73191\n",
      "saved x_train\n",
      "saved y_train\n"
     ]
    }
   ],
   "source": [
    "generateStuff()"
   ]
  },
  {
   "cell_type": "code",
   "execution_count": null,
   "id": "1069de9f",
   "metadata": {},
   "outputs": [],
   "source": [
    "x_train = torch.load('/home/hviswan/Hrishikesh-IDEAS/hviswan/GANO/x_test_vimeo_large.pt')\n",
    "print(x_train.shape)"
   ]
  },
  {
   "cell_type": "code",
   "execution_count": null,
   "id": "67b30db9",
   "metadata": {},
   "outputs": [],
   "source": []
  }
 ],
 "metadata": {
  "kernelspec": {
   "display_name": "Python (My IDEAS_hviswan Kernel)",
   "language": "python",
   "name": "ideas_hviswan"
  },
  "language_info": {
   "codemirror_mode": {
    "name": "ipython",
    "version": 3
   },
   "file_extension": ".py",
   "mimetype": "text/x-python",
   "name": "python",
   "nbconvert_exporter": "python",
   "pygments_lexer": "ipython3",
   "version": "3.8.5"
  }
 },
 "nbformat": 4,
 "nbformat_minor": 5
}
